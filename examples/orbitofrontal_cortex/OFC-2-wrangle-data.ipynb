{
 "cells": [
  {
   "cell_type": "markdown",
   "metadata": {},
   "source": [
    "# Brief Instructions for Downloading OFC-2 data\n",
    "\n",
    "This notebook accompanies the `examples/OFC-2.ipynb` demo. That demo uses a publicly available dataset, which is described in detail here: http://crcns.org/data-sets/ofc/ofc-2/about-ofc-2\n",
    "\n",
    "### Steps\n",
    "\n",
    "* First, [Download the data](https://portal.nersc.gov/project/crcns/download/ofc-2). You go through a brief account registration process.\n",
    "\n",
    "* Replace the `dpath` string below with the directory you downloaded the data to.\n",
    "\n",
    "* Finally, execute all the code in this notebook. This will create a file `'ofc2_data.h5'` which is needed by the `examples/OFC-2.ipynb` notebook. "
   ]
  },
  {
   "cell_type": "code",
   "execution_count": 1,
   "metadata": {},
   "outputs": [],
   "source": [
    "## REPLACE THIS WITH THE PATH TO YOUR DOWNLOAD OF OFC-2 ##\n",
    "dpath = '/Users/alex/Dropbox/data/crcns/ofc-2/'\n",
    "##########################################################\n",
    "\n",
    "import matplotlib.pyplot as plt\n",
    "import numpy as np\n",
    "%matplotlib inline\n",
    "from scipy.io import loadmat\n",
    "import os\n",
    "from glob import glob"
   ]
  },
  {
   "cell_type": "code",
   "execution_count": 2,
   "metadata": {},
   "outputs": [],
   "source": [
    "rats = os.listdir(dpath)\n",
    "sessions = {r: os.listdir(os.path.join(dpath, r)) for r in rats}\n",
    "tmax = 6.0  # maximum time for a trial\n",
    "\n",
    "def load(rat=0, sess=0):\n",
    "    r = rats[rat] if type(rat)==int else rat\n",
    "    p = os.path.join(dpath, r, sessions[r][sess])\n",
    "    print(\"Loading Session: \" + p)\n",
    "    # spike times in ms\n",
    "    spiketimes = [loadmat(f)['TS'].ravel() for f in glob(os.path.join(p, 'Sc*'))]\n",
    "    \n",
    "    ev1 = loadmat(os.path.join(p, 'TrialEvents.mat'))\n",
    "    ev2 = loadmat(os.path.join(p, 'TrialEvents2.mat'))\n",
    "    \n",
    "    # collect the important metadata\n",
    "    info = {\n",
    "        'correct': ev2['Correct'].ravel(),\n",
    "        'stim': ev2['OdorCategory'].ravel(),\n",
    "        'choice': ev2['ChoiceDir'].ravel(),\n",
    "        'ratio': ev2['OdorRatio'].ravel(),\n",
    "        'odor_in': ev1['TrialStart'].ravel() + ev1['OdorPokeIn'].ravel(),\n",
    "        'odor_out': ev1['TrialStart'].ravel() + ev1['OdorPokeOut'].ravel(),\n",
    "        'water_in': ev1['TrialStart'].ravel() + ev1['WaterPokeIn'].ravel(),\n",
    "        'water_on': ev1['TrialStart'].ravel() + ev2['WaterValveOn'].ravel(),\n",
    "        'water_out': ev1['TrialStart'].ravel() + ev1['WaterPokeOut'].ravel(),\n",
    "    }\n",
    "    \n",
    "    # filter out incorrect trials\n",
    "    valid = np.isfinite(info['water_on']) & np.isfinite(info['odor_in'])\n",
    "    info = {k: v[valid] for k, v in info.items()}\n",
    "\n",
    "    # align valid trials relative to odor_in\n",
    "    refpt = info['odor_in'].copy() * 10000\n",
    "    for k in ('odor_in', 'odor_out', 'water_in', 'water_on', 'water_out'):\n",
    "        info[k] = (10000*info[k] - refpt).astype(int)\n",
    "\n",
    "    # get trial indices for each spike\n",
    "    trials, times, neurons = [], [], []\n",
    "    for n, st in enumerate(spiketimes):\n",
    "        trials += get_trial_idx(st, refpt)\n",
    "        times += st.astype(int).tolist()\n",
    "        neurons += np.full(len(st), n).tolist()\n",
    "\n",
    "    # convert to numpy arrays\n",
    "    trials, times, neurons = np.array(trials), np.array(times), np.array(neurons)\n",
    "    \n",
    "    # filter out any spikes that weren't matched to a trial and spikes over 2000 bins after trial start\n",
    "    idx = (trials >= 0) & (times < 60000)\n",
    "\n",
    "    return trials[idx], times[idx], neurons[idx], info"
   ]
  },
  {
   "cell_type": "code",
   "execution_count": 3,
   "metadata": {},
   "outputs": [],
   "source": [
    "def get_trial_idx(st, refpt):\n",
    "    K = len(refpt)\n",
    "    trials = np.full(len(st), -1)\n",
    "    _get_trials(trials, st, refpt)\n",
    "    return trials.tolist()\n",
    "\n",
    "def _get_trials(trials, times, start_times):\n",
    "    # trial counter\n",
    "    K = len(start_times)\n",
    "    k = 0\n",
    "    \n",
    "    # add each spike to M\n",
    "    for i in range(len(times)):\n",
    "\n",
    "        # ignore spikes preceding first trial\n",
    "        if times[i] < start_times[0]:\n",
    "            continue\n",
    "            \n",
    "        # advance to next trial\n",
    "        while (k + 1 < K) and (times[i] > start_times[k+1]):\n",
    "            k += 1\n",
    "\n",
    "        # record trial\n",
    "        t = times[i] - start_times[k]\n",
    "\n",
    "        if t > 0:\n",
    "            trials[i] = k\n",
    "            times[i] = t\n"
   ]
  },
  {
   "cell_type": "code",
   "execution_count": 4,
   "metadata": {},
   "outputs": [
    {
     "name": "stdout",
     "output_type": "stream",
     "text": [
      "Loading Session: /Users/alex/Dropbox/data/crcns/ofc-2/N48/050320\n"
     ]
    }
   ],
   "source": [
    "# You can load different animals / sessions by changing this.\n",
    "RAT = 0\n",
    "SESS = 3\n",
    "\n",
    "# Load the data.\n",
    "fields = ['trials', 'times', 'neurons', 'metadata']\n",
    "trials, times, neurons, metadata = load(rat=RAT, sess=SESS)\n",
    "\n",
    "# Save the data.\n",
    "np.savez('ofc2_data.npz', trials=trials, neurons=neurons, times=times)\n",
    "np.savez('ofc2_metadata.npz', **metadata)"
   ]
  }
 ],
 "metadata": {
  "@webio": {
   "lastCommId": null,
   "lastKernelId": null
  },
  "kernelspec": {
   "display_name": "Python 3",
   "language": "python",
   "name": "python3"
  },
  "language_info": {
   "codemirror_mode": {
    "name": "ipython",
    "version": 3
   },
   "file_extension": ".py",
   "mimetype": "text/x-python",
   "name": "python",
   "nbconvert_exporter": "python",
   "pygments_lexer": "ipython3",
   "version": "3.7.1"
  }
 },
 "nbformat": 4,
 "nbformat_minor": 2
}
